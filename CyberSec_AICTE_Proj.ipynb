{
 "cells": [
  {
   "cell_type": "code",
   "execution_count": 23,
   "id": "39582470-fc7f-4249-83e2-dfbf2c5c643f",
   "metadata": {},
   "outputs": [
    {
     "name": "stdout",
     "output_type": "stream",
     "text": [
      "✅ Image loaded successfully!\n"
     ]
    }
   ],
   "source": [
    "import cv2\n",
    "\n",
    "image_path = r\"C:\\Users\\SREENITHI\\cartoon_testing.jpg.jpg\"  # Update with your image path\n",
    "img = cv2.imread(image_path)\n",
    "\n",
    "if img is None:\n",
    "    print(\"❌ Error: Image not found! Check the path and filename.\")\n",
    "else:\n",
    "    print(\"✅ Image loaded successfully!\")\n"
   ]
  },
  {
   "cell_type": "code",
   "execution_count": 33,
   "id": "651bdfc9-6d2f-42c5-9f71-d206e7f91e4e",
   "metadata": {},
   "outputs": [
    {
     "name": "stdin",
     "output_type": "stream",
     "text": [
      "Enter secret message:  Project Done!\n",
      "Enter a passcode:  123\n"
     ]
    },
    {
     "name": "stdout",
     "output_type": "stream",
     "text": [
      "✅ Encrypted image saved at: C:\\Users\\SREENITHI\\encryptedImage.jpg\n"
     ]
    },
    {
     "name": "stdin",
     "output_type": "stream",
     "text": [
      "Enter passcode for Decryption:  123\n"
     ]
    },
    {
     "name": "stdout",
     "output_type": "stream",
     "text": [
      "✅ Decryption successful! Secret message: Project Done!\n"
     ]
    }
   ],
   "source": [
    "import cv2\n",
    "import os\n",
    "\n",
    "# ✅ Use the correct image path\n",
    "image_path = r\"C:\\Users\\SREENITHI\\encryptedImage.jpg\\cartoon_testing.jpg.jpg\"  \n",
    "img = cv2.imread(image_path)\n",
    "\n",
    "# ✅ Check if the image is loaded properly\n",
    "if img is None:\n",
    "    print(\"❌ Error: Image not found! Check the path and filename.\")\n",
    "    exit()\n",
    "\n",
    "# ✅ Secret message input\n",
    "msg = input(\"Enter secret message: \")\n",
    "password = input(\"Enter a passcode: \")\n",
    "\n",
    "# ✅ Create character-to-value mapping\n",
    "d = {chr(i): i for i in range(255)}\n",
    "c = {i: chr(i) for i in range(255)}\n",
    "\n",
    "n, m, z = 0, 0, 0\n",
    "\n",
    "# ✅ Hide the message in the image\n",
    "for i in range(len(msg)):\n",
    "    img[n, m, z] = d[msg[i]]\n",
    "    n += 1\n",
    "    m += 1\n",
    "    z = (z + 1) % 3  # Rotate through color channels\n",
    "\n",
    "# ✅ Save the encrypted image in the correct folder\n",
    "encrypted_image_path = r\"C:\\Users\\SREENITHI\\encryptedImage.jpg\"\n",
    "cv2.imwrite(encrypted_image_path, img)\n",
    "print(f\"✅ Encrypted image saved at: {encrypted_image_path}\")\n",
    "\n",
    "# ✅ Open the encrypted image automatically (Windows only)\n",
    "os.system(f'start \"\" \"{encrypted_image_path}\"')\n",
    "\n",
    "# ✅ Decryption process\n",
    "message = \"\"\n",
    "n, m, z = 0, 0, 0\n",
    "\n",
    "pas = input(\"Enter passcode for Decryption: \")\n",
    "if password == pas:\n",
    "    for i in range(len(msg)):\n",
    "        message += c[img[n, m, z]]\n",
    "        n += 1\n",
    "        m += 1\n",
    "        z = (z + 1) % 3\n",
    "    print(\"✅ Decryption successful! Secret message:\", message)\n",
    "else:\n",
    "    print(\"❌ Authentication failed! Incorrect passcode.\")"
   ]
  },
  {
   "cell_type": "code",
   "execution_count": null,
   "id": "4aa1f369-37c7-4033-9f52-8129aa1d5c8b",
   "metadata": {},
   "outputs": [],
   "source": []
  }
 ],
 "metadata": {
  "kernelspec": {
   "display_name": "Python 3 (ipykernel)",
   "language": "python",
   "name": "python3"
  },
  "language_info": {
   "codemirror_mode": {
    "name": "ipython",
    "version": 3
   },
   "file_extension": ".py",
   "mimetype": "text/x-python",
   "name": "python",
   "nbconvert_exporter": "python",
   "pygments_lexer": "ipython3",
   "version": "3.12.4"
  }
 },
 "nbformat": 4,
 "nbformat_minor": 5
}
